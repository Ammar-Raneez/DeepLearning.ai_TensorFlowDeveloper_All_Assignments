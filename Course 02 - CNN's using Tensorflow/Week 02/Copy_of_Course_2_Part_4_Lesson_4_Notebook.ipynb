{
  "nbformat": 4,
  "nbformat_minor": 0,
  "metadata": {
    "accelerator": "GPU",
    "colab": {
      "name": "Copy of Course 2 - Part 4 - Lesson 4 - Notebook.ipynb",
      "provenance": [],
      "collapsed_sections": []
    },
    "kernelspec": {
      "display_name": "Python 3",
      "name": "python3"
    }
  },
  "cells": [
    {
      "cell_type": "markdown",
      "metadata": {
        "colab_type": "text",
        "id": "rX8mhOLljYeM"
      },
      "source": [
        "##### Copyright 2019 The TensorFlow Authors."
      ]
    },
    {
      "cell_type": "code",
      "metadata": {
        "cellView": "form",
        "colab_type": "code",
        "id": "BZSlp3DAjdYf",
        "colab": {}
      },
      "source": [
        "#@title Licensed under the Apache License, Version 2.0 (the \"License\");\n",
        "# you may not use this file except in compliance with the License.\n",
        "# You may obtain a copy of the License at\n",
        "#\n",
        "# https://www.apache.org/licenses/LICENSE-2.0\n",
        "#\n",
        "# Unless required by applicable law or agreed to in writing, software\n",
        "# distributed under the License is distributed on an \"AS IS\" BASIS,\n",
        "# WITHOUT WARRANTIES OR CONDITIONS OF ANY KIND, either express or implied.\n",
        "# See the License for the specific language governing permissions and\n",
        "# limitations under the License."
      ],
      "execution_count": null,
      "outputs": []
    },
    {
      "cell_type": "code",
      "metadata": {
        "colab_type": "code",
        "id": "RXZT2UsyIVe_",
        "colab": {
          "base_uri": "https://localhost:8080/",
          "height": 391
        },
        "outputId": "6fe72479-4b9c-481e-8858-b25ebce76794"
      },
      "source": [
        "!wget --no-check-certificate \\\n",
        "    https://storage.googleapis.com/laurencemoroney-blog.appspot.com/horse-or-human.zip \\\n",
        "    -O /tmp/horse-or-human.zip\n",
        "\n",
        "!wget --no-check-certificate \\\n",
        "    https://storage.googleapis.com/laurencemoroney-blog.appspot.com/validation-horse-or-human.zip \\\n",
        "    -O /tmp/validation-horse-or-human.zip\n",
        "  \n",
        "import os\n",
        "import zipfile\n",
        "\n",
        "local_zip = '/tmp/horse-or-human.zip'\n",
        "zip_ref = zipfile.ZipFile(local_zip, 'r')\n",
        "zip_ref.extractall('/tmp/horse-or-human')\n",
        "local_zip = '/tmp/validation-horse-or-human.zip'\n",
        "zip_ref = zipfile.ZipFile(local_zip, 'r')\n",
        "zip_ref.extractall('/tmp/validation-horse-or-human')\n",
        "zip_ref.close()\n",
        "# Directory with our training horse pictures\n",
        "train_horse_dir = os.path.join('/tmp/horse-or-human/horses')\n",
        "\n",
        "# Directory with our training human pictures\n",
        "train_human_dir = os.path.join('/tmp/horse-or-human/humans')\n",
        "\n",
        "# Directory with our training horse pictures\n",
        "validation_horse_dir = os.path.join('/tmp/validation-horse-or-human/horses')\n",
        "\n",
        "# Directory with our training human pictures\n",
        "validation_human_dir = os.path.join('/tmp/validation-horse-or-human/humans')"
      ],
      "execution_count": 1,
      "outputs": [
        {
          "output_type": "stream",
          "text": [
            "--2020-09-16 19:25:15--  https://storage.googleapis.com/laurencemoroney-blog.appspot.com/horse-or-human.zip\n",
            "Resolving storage.googleapis.com (storage.googleapis.com)... 108.177.126.128, 108.177.127.128, 172.217.218.128, ...\n",
            "Connecting to storage.googleapis.com (storage.googleapis.com)|108.177.126.128|:443... connected.\n",
            "HTTP request sent, awaiting response... 200 OK\n",
            "Length: 149574867 (143M) [application/zip]\n",
            "Saving to: ‘/tmp/horse-or-human.zip’\n",
            "\n",
            "/tmp/horse-or-human 100%[===================>] 142.65M  45.1MB/s    in 3.2s    \n",
            "\n",
            "2020-09-16 19:25:18 (45.1 MB/s) - ‘/tmp/horse-or-human.zip’ saved [149574867/149574867]\n",
            "\n",
            "--2020-09-16 19:25:18--  https://storage.googleapis.com/laurencemoroney-blog.appspot.com/validation-horse-or-human.zip\n",
            "Resolving storage.googleapis.com (storage.googleapis.com)... 108.177.126.128, 108.177.127.128, 74.125.143.128, ...\n",
            "Connecting to storage.googleapis.com (storage.googleapis.com)|108.177.126.128|:443... connected.\n",
            "HTTP request sent, awaiting response... 200 OK\n",
            "Length: 11480187 (11M) [application/zip]\n",
            "Saving to: ‘/tmp/validation-horse-or-human.zip’\n",
            "\n",
            "/tmp/validation-hor 100%[===================>]  10.95M  32.5MB/s    in 0.3s    \n",
            "\n",
            "2020-09-16 19:25:19 (32.5 MB/s) - ‘/tmp/validation-horse-or-human.zip’ saved [11480187/11480187]\n",
            "\n"
          ],
          "name": "stdout"
        }
      ]
    },
    {
      "cell_type": "markdown",
      "metadata": {
        "colab_type": "text",
        "id": "5oqBkNBJmtUv"
      },
      "source": [
        "## Building a Small Model from Scratch\n",
        "\n",
        "But before we continue, let's start defining the model:\n",
        "\n",
        "Step 1 will be to import tensorflow."
      ]
    },
    {
      "cell_type": "code",
      "metadata": {
        "colab_type": "code",
        "id": "qvfZg3LQbD-5",
        "colab": {}
      },
      "source": [
        "import tensorflow as tf"
      ],
      "execution_count": 2,
      "outputs": []
    },
    {
      "cell_type": "markdown",
      "metadata": {
        "colab_type": "text",
        "id": "BnhYCP4tdqjC"
      },
      "source": [
        "We then add convolutional layers as in the previous example, and flatten the final result to feed into the densely connected layers."
      ]
    },
    {
      "cell_type": "markdown",
      "metadata": {
        "colab_type": "text",
        "id": "gokG5HKpdtzm"
      },
      "source": [
        "Finally we add the densely connected layers. \n",
        "\n",
        "Note that because we are facing a two-class classification problem, i.e. a *binary classification problem*, we will end our network with a [*sigmoid* activation](https://wikipedia.org/wiki/Sigmoid_function), so that the output of our network will be a single scalar between 0 and 1, encoding the probability that the current image is class 1 (as opposed to class 0)."
      ]
    },
    {
      "cell_type": "code",
      "metadata": {
        "colab_type": "code",
        "id": "PixZ2s5QbYQ3",
        "colab": {}
      },
      "source": [
        "model = tf.keras.models.Sequential([\n",
        "    # Note the input shape is the desired size of the image 300x300 with 3 bytes color\n",
        "    # This is the first convolution\n",
        "    tf.keras.layers.Conv2D(16, (3,3), activation='relu', input_shape=(300, 300, 3)),\n",
        "    tf.keras.layers.MaxPooling2D(2, 2),\n",
        "    # The second convolution\n",
        "    tf.keras.layers.Conv2D(32, (3,3), activation='relu'),\n",
        "    tf.keras.layers.MaxPooling2D(2,2),\n",
        "    # The third convolution\n",
        "    tf.keras.layers.Conv2D(64, (3,3), activation='relu'),\n",
        "    tf.keras.layers.MaxPooling2D(2,2),\n",
        "    # The fourth convolution\n",
        "    tf.keras.layers.Conv2D(64, (3,3), activation='relu'),\n",
        "    tf.keras.layers.MaxPooling2D(2,2),\n",
        "    # The fifth convolution\n",
        "    tf.keras.layers.Conv2D(64, (3,3), activation='relu'),\n",
        "    tf.keras.layers.MaxPooling2D(2,2),\n",
        "    # Flatten the results to feed into a DNN\n",
        "    tf.keras.layers.Flatten(),\n",
        "    # 512 neuron hidden layer\n",
        "    tf.keras.layers.Dense(512, activation='relu'),\n",
        "    # Only 1 output neuron. It will contain a value from 0-1 where 0 for 1 class ('horses') and 1 for the other ('humans')\n",
        "    tf.keras.layers.Dense(1, activation='sigmoid')\n",
        "])"
      ],
      "execution_count": 3,
      "outputs": []
    },
    {
      "cell_type": "code",
      "metadata": {
        "colab_type": "code",
        "id": "8DHWhFP_uhq3",
        "colab": {}
      },
      "source": [
        "from tensorflow.keras.optimizers import RMSprop\n",
        "\n",
        "model.compile(loss='binary_crossentropy',\n",
        "              optimizer=RMSprop(lr=1e-4),\n",
        "              metrics=['accuracy'])"
      ],
      "execution_count": 4,
      "outputs": []
    },
    {
      "cell_type": "code",
      "metadata": {
        "colab_type": "code",
        "id": "ClebU9NJg99G",
        "colab": {
          "base_uri": "https://localhost:8080/",
          "height": 51
        },
        "outputId": "3e253557-c405-4143-b32a-5f90fbee61b7"
      },
      "source": [
        "from tensorflow.keras.preprocessing.image import ImageDataGenerator\n",
        "\n",
        "# All images will be rescaled by 1./255\n",
        "train_datagen = ImageDataGenerator(\n",
        "      rescale=1./255,\n",
        "      rotation_range=40,\n",
        "      width_shift_range=0.2,\n",
        "      height_shift_range=0.2,\n",
        "      shear_range=0.2,\n",
        "      zoom_range=0.2,\n",
        "      horizontal_flip=True,\n",
        "      fill_mode='nearest')\n",
        "\n",
        "validation_datagen = ImageDataGenerator(rescale=1/255)\n",
        "\n",
        "# Flow training images in batches of 128 using train_datagen generator\n",
        "train_generator = train_datagen.flow_from_directory(\n",
        "        '/tmp/horse-or-human/',  # This is the source directory for training images\n",
        "        target_size=(300, 300),  # All images will be resized to 150x150\n",
        "        batch_size=128,\n",
        "        # Since we use binary_crossentropy loss, we need binary labels\n",
        "        class_mode='binary')\n",
        "\n",
        "# Flow training images in batches of 128 using train_datagen generator\n",
        "validation_generator = validation_datagen.flow_from_directory(\n",
        "        '/tmp/validation-horse-or-human/',  # This is the source directory for training images\n",
        "        target_size=(300, 300),  # All images will be resized to 150x150\n",
        "        batch_size=32,\n",
        "        # Since we use binary_crossentropy loss, we need binary labels\n",
        "        class_mode='binary')"
      ],
      "execution_count": 5,
      "outputs": [
        {
          "output_type": "stream",
          "text": [
            "Found 1027 images belonging to 2 classes.\n",
            "Found 256 images belonging to 2 classes.\n"
          ],
          "name": "stdout"
        }
      ]
    },
    {
      "cell_type": "code",
      "metadata": {
        "colab_type": "code",
        "id": "Fb1_lgobv81m",
        "colab": {
          "base_uri": "https://localhost:8080/",
          "height": 1000
        },
        "outputId": "a6646433-cd96-4362-ee21-52185e8011e7"
      },
      "source": [
        "history = model.fit(\n",
        "      train_generator,\n",
        "      steps_per_epoch=8,  \n",
        "      epochs=100,\n",
        "      verbose=1,\n",
        "      validation_data = validation_generator,\n",
        "      validation_steps=8)"
      ],
      "execution_count": 6,
      "outputs": [
        {
          "output_type": "stream",
          "text": [
            "Epoch 1/100\n",
            "8/8 [==============================] - 21s 3s/step - loss: 0.7129 - accuracy: 0.5184 - val_loss: 0.6862 - val_accuracy: 0.5312\n",
            "Epoch 2/100\n",
            "8/8 [==============================] - 20s 3s/step - loss: 0.6836 - accuracy: 0.5717 - val_loss: 0.6726 - val_accuracy: 0.5859\n",
            "Epoch 3/100\n",
            "8/8 [==============================] - 20s 2s/step - loss: 0.6567 - accuracy: 0.6418 - val_loss: 0.6565 - val_accuracy: 0.5000\n",
            "Epoch 4/100\n",
            "8/8 [==============================] - 20s 3s/step - loss: 0.6556 - accuracy: 0.6429 - val_loss: 0.6249 - val_accuracy: 0.6484\n",
            "Epoch 5/100\n",
            "8/8 [==============================] - 20s 3s/step - loss: 0.6066 - accuracy: 0.7230 - val_loss: 0.9303 - val_accuracy: 0.5000\n",
            "Epoch 6/100\n",
            "8/8 [==============================] - 20s 3s/step - loss: 0.6197 - accuracy: 0.7108 - val_loss: 0.5625 - val_accuracy: 0.7812\n",
            "Epoch 7/100\n",
            "8/8 [==============================] - 23s 3s/step - loss: 0.5628 - accuracy: 0.7168 - val_loss: 0.6269 - val_accuracy: 0.6133\n",
            "Epoch 8/100\n",
            "8/8 [==============================] - 20s 3s/step - loss: 0.5603 - accuracy: 0.7119 - val_loss: 0.8871 - val_accuracy: 0.5195\n",
            "Epoch 9/100\n",
            "8/8 [==============================] - 23s 3s/step - loss: 0.5124 - accuracy: 0.7588 - val_loss: 0.5293 - val_accuracy: 0.7344\n",
            "Epoch 10/100\n",
            "8/8 [==============================] - 23s 3s/step - loss: 0.5730 - accuracy: 0.7061 - val_loss: 1.0159 - val_accuracy: 0.5156\n",
            "Epoch 11/100\n",
            "8/8 [==============================] - 20s 3s/step - loss: 0.5019 - accuracy: 0.7664 - val_loss: 0.8212 - val_accuracy: 0.5469\n",
            "Epoch 12/100\n",
            "8/8 [==============================] - 23s 3s/step - loss: 0.5370 - accuracy: 0.7275 - val_loss: 0.9694 - val_accuracy: 0.5312\n",
            "Epoch 13/100\n",
            "8/8 [==============================] - 20s 3s/step - loss: 0.5752 - accuracy: 0.7353 - val_loss: 0.7995 - val_accuracy: 0.5625\n",
            "Epoch 14/100\n",
            "8/8 [==============================] - 20s 3s/step - loss: 0.4961 - accuracy: 0.7697 - val_loss: 0.7217 - val_accuracy: 0.6094\n",
            "Epoch 15/100\n",
            "8/8 [==============================] - 21s 3s/step - loss: 0.4726 - accuracy: 0.7753 - val_loss: 0.5962 - val_accuracy: 0.6992\n",
            "Epoch 16/100\n",
            "8/8 [==============================] - 20s 3s/step - loss: 0.5050 - accuracy: 0.7620 - val_loss: 0.8166 - val_accuracy: 0.5938\n",
            "Epoch 17/100\n",
            "8/8 [==============================] - 20s 3s/step - loss: 0.5254 - accuracy: 0.7564 - val_loss: 0.6601 - val_accuracy: 0.6641\n",
            "Epoch 18/100\n",
            "8/8 [==============================] - 20s 3s/step - loss: 0.4984 - accuracy: 0.7820 - val_loss: 0.9331 - val_accuracy: 0.5703\n",
            "Epoch 19/100\n",
            "8/8 [==============================] - 23s 3s/step - loss: 0.4559 - accuracy: 0.7842 - val_loss: 1.1677 - val_accuracy: 0.5430\n",
            "Epoch 20/100\n",
            "8/8 [==============================] - 20s 3s/step - loss: 0.4530 - accuracy: 0.8065 - val_loss: 1.1232 - val_accuracy: 0.5625\n",
            "Epoch 21/100\n",
            "8/8 [==============================] - 20s 3s/step - loss: 0.5061 - accuracy: 0.7742 - val_loss: 1.1713 - val_accuracy: 0.5508\n",
            "Epoch 22/100\n",
            "8/8 [==============================] - 20s 3s/step - loss: 0.4141 - accuracy: 0.8131 - val_loss: 0.4029 - val_accuracy: 0.8242\n",
            "Epoch 23/100\n",
            "8/8 [==============================] - 20s 3s/step - loss: 0.5307 - accuracy: 0.7497 - val_loss: 1.1173 - val_accuracy: 0.5781\n",
            "Epoch 24/100\n",
            "8/8 [==============================] - 20s 3s/step - loss: 0.4232 - accuracy: 0.8142 - val_loss: 0.9123 - val_accuracy: 0.6211\n",
            "Epoch 25/100\n",
            "8/8 [==============================] - 20s 3s/step - loss: 0.4574 - accuracy: 0.7953 - val_loss: 0.7672 - val_accuracy: 0.6406\n",
            "Epoch 26/100\n",
            "8/8 [==============================] - 20s 3s/step - loss: 0.4187 - accuracy: 0.7931 - val_loss: 1.2542 - val_accuracy: 0.5820\n",
            "Epoch 27/100\n",
            "8/8 [==============================] - 20s 3s/step - loss: 0.4179 - accuracy: 0.8098 - val_loss: 0.8544 - val_accuracy: 0.6680\n",
            "Epoch 28/100\n",
            "8/8 [==============================] - 20s 3s/step - loss: 0.3572 - accuracy: 0.8509 - val_loss: 1.7700 - val_accuracy: 0.5469\n",
            "Epoch 29/100\n",
            "8/8 [==============================] - 20s 3s/step - loss: 0.4523 - accuracy: 0.7786 - val_loss: 1.2964 - val_accuracy: 0.5781\n",
            "Epoch 30/100\n",
            "8/8 [==============================] - 23s 3s/step - loss: 0.3772 - accuracy: 0.8387 - val_loss: 2.1426 - val_accuracy: 0.5234\n",
            "Epoch 31/100\n",
            "8/8 [==============================] - 20s 3s/step - loss: 0.3948 - accuracy: 0.8187 - val_loss: 2.1769 - val_accuracy: 0.5000\n",
            "Epoch 32/100\n",
            "8/8 [==============================] - 20s 3s/step - loss: 0.3690 - accuracy: 0.8409 - val_loss: 1.2709 - val_accuracy: 0.6250\n",
            "Epoch 33/100\n",
            "8/8 [==============================] - 21s 3s/step - loss: 0.4208 - accuracy: 0.8053 - val_loss: 0.9814 - val_accuracy: 0.6797\n",
            "Epoch 34/100\n",
            "8/8 [==============================] - 20s 3s/step - loss: 0.4237 - accuracy: 0.8187 - val_loss: 1.4380 - val_accuracy: 0.5938\n",
            "Epoch 35/100\n",
            "8/8 [==============================] - 23s 3s/step - loss: 0.3254 - accuracy: 0.8545 - val_loss: 1.3352 - val_accuracy: 0.6172\n",
            "Epoch 36/100\n",
            "8/8 [==============================] - 23s 3s/step - loss: 0.3645 - accuracy: 0.8376 - val_loss: 1.0850 - val_accuracy: 0.6641\n",
            "Epoch 37/100\n",
            "8/8 [==============================] - 20s 3s/step - loss: 0.4282 - accuracy: 0.8131 - val_loss: 1.4213 - val_accuracy: 0.5977\n",
            "Epoch 38/100\n",
            "8/8 [==============================] - 21s 3s/step - loss: 0.3307 - accuracy: 0.8598 - val_loss: 1.6589 - val_accuracy: 0.5820\n",
            "Epoch 39/100\n",
            "8/8 [==============================] - 20s 3s/step - loss: 0.3084 - accuracy: 0.8888 - val_loss: 0.9359 - val_accuracy: 0.6992\n",
            "Epoch 40/100\n",
            "8/8 [==============================] - 23s 3s/step - loss: 0.3316 - accuracy: 0.8521 - val_loss: 1.8281 - val_accuracy: 0.5781\n",
            "Epoch 41/100\n",
            "8/8 [==============================] - 20s 3s/step - loss: 0.2920 - accuracy: 0.8843 - val_loss: 1.0920 - val_accuracy: 0.6953\n",
            "Epoch 42/100\n",
            "8/8 [==============================] - 20s 3s/step - loss: 0.3534 - accuracy: 0.8543 - val_loss: 2.3060 - val_accuracy: 0.5469\n",
            "Epoch 43/100\n",
            "8/8 [==============================] - 20s 3s/step - loss: 0.3132 - accuracy: 0.8710 - val_loss: 1.2367 - val_accuracy: 0.6758\n",
            "Epoch 44/100\n",
            "8/8 [==============================] - 21s 3s/step - loss: 0.3060 - accuracy: 0.8687 - val_loss: 0.9607 - val_accuracy: 0.7148\n",
            "Epoch 45/100\n",
            "8/8 [==============================] - 21s 3s/step - loss: 0.4067 - accuracy: 0.8343 - val_loss: 1.5795 - val_accuracy: 0.5898\n",
            "Epoch 46/100\n",
            "8/8 [==============================] - 21s 3s/step - loss: 0.2713 - accuracy: 0.9043 - val_loss: 1.7928 - val_accuracy: 0.5898\n",
            "Epoch 47/100\n",
            "8/8 [==============================] - 21s 3s/step - loss: 0.2884 - accuracy: 0.8821 - val_loss: 2.8797 - val_accuracy: 0.5195\n",
            "Epoch 48/100\n",
            "8/8 [==============================] - 21s 3s/step - loss: 0.3574 - accuracy: 0.8476 - val_loss: 2.1423 - val_accuracy: 0.5625\n",
            "Epoch 49/100\n",
            "8/8 [==============================] - 21s 3s/step - loss: 0.2379 - accuracy: 0.9166 - val_loss: 5.2740 - val_accuracy: 0.5000\n",
            "Epoch 50/100\n",
            "8/8 [==============================] - 21s 3s/step - loss: 0.4354 - accuracy: 0.8298 - val_loss: 1.8232 - val_accuracy: 0.6016\n",
            "Epoch 51/100\n",
            "8/8 [==============================] - 23s 3s/step - loss: 0.2318 - accuracy: 0.9166 - val_loss: 2.0179 - val_accuracy: 0.5898\n",
            "Epoch 52/100\n",
            "8/8 [==============================] - 20s 2s/step - loss: 0.2296 - accuracy: 0.9099 - val_loss: 3.6365 - val_accuracy: 0.5156\n",
            "Epoch 53/100\n",
            "8/8 [==============================] - 20s 3s/step - loss: 0.3634 - accuracy: 0.8409 - val_loss: 2.3726 - val_accuracy: 0.5586\n",
            "Epoch 54/100\n",
            "8/8 [==============================] - 20s 3s/step - loss: 0.2696 - accuracy: 0.8932 - val_loss: 1.8615 - val_accuracy: 0.6289\n",
            "Epoch 55/100\n",
            "8/8 [==============================] - 20s 3s/step - loss: 0.2864 - accuracy: 0.8721 - val_loss: 1.9694 - val_accuracy: 0.6055\n",
            "Epoch 56/100\n",
            "8/8 [==============================] - 20s 3s/step - loss: 0.3035 - accuracy: 0.8621 - val_loss: 2.2444 - val_accuracy: 0.5703\n",
            "Epoch 57/100\n",
            "8/8 [==============================] - 20s 3s/step - loss: 0.2682 - accuracy: 0.8776 - val_loss: 1.6109 - val_accuracy: 0.6484\n",
            "Epoch 58/100\n",
            "8/8 [==============================] - 20s 2s/step - loss: 0.2432 - accuracy: 0.9055 - val_loss: 4.1207 - val_accuracy: 0.5156\n",
            "Epoch 59/100\n",
            "8/8 [==============================] - 20s 3s/step - loss: 0.3244 - accuracy: 0.8509 - val_loss: 1.4128 - val_accuracy: 0.6602\n",
            "Epoch 60/100\n",
            "8/8 [==============================] - 20s 3s/step - loss: 0.3451 - accuracy: 0.8509 - val_loss: 1.9449 - val_accuracy: 0.6133\n",
            "Epoch 61/100\n",
            "8/8 [==============================] - 22s 3s/step - loss: 0.2338 - accuracy: 0.9062 - val_loss: 1.5465 - val_accuracy: 0.6562\n",
            "Epoch 62/100\n",
            "8/8 [==============================] - 20s 2s/step - loss: 0.2181 - accuracy: 0.9188 - val_loss: 2.5078 - val_accuracy: 0.5859\n",
            "Epoch 63/100\n",
            "8/8 [==============================] - 20s 3s/step - loss: 0.3086 - accuracy: 0.8632 - val_loss: 1.6785 - val_accuracy: 0.6289\n",
            "Epoch 64/100\n",
            "8/8 [==============================] - 20s 3s/step - loss: 0.2376 - accuracy: 0.9088 - val_loss: 1.9134 - val_accuracy: 0.6211\n",
            "Epoch 65/100\n",
            "8/8 [==============================] - 20s 3s/step - loss: 0.2210 - accuracy: 0.9077 - val_loss: 2.7437 - val_accuracy: 0.5547\n",
            "Epoch 66/100\n",
            "8/8 [==============================] - 20s 2s/step - loss: 0.2584 - accuracy: 0.8943 - val_loss: 3.6789 - val_accuracy: 0.5195\n",
            "Epoch 67/100\n",
            "8/8 [==============================] - 22s 3s/step - loss: 0.2006 - accuracy: 0.9232 - val_loss: 2.3109 - val_accuracy: 0.6250\n",
            "Epoch 68/100\n",
            "8/8 [==============================] - 19s 2s/step - loss: 0.2268 - accuracy: 0.9055 - val_loss: 3.1536 - val_accuracy: 0.5625\n",
            "Epoch 69/100\n",
            "8/8 [==============================] - 20s 3s/step - loss: 0.2779 - accuracy: 0.8754 - val_loss: 1.9300 - val_accuracy: 0.6445\n",
            "Epoch 70/100\n",
            "8/8 [==============================] - 20s 3s/step - loss: 0.2387 - accuracy: 0.9088 - val_loss: 2.2907 - val_accuracy: 0.6133\n",
            "Epoch 71/100\n",
            "8/8 [==============================] - 20s 2s/step - loss: 0.2382 - accuracy: 0.9021 - val_loss: 2.3392 - val_accuracy: 0.6133\n",
            "Epoch 72/100\n",
            "8/8 [==============================] - 20s 2s/step - loss: 0.2194 - accuracy: 0.9110 - val_loss: 2.1389 - val_accuracy: 0.6289\n",
            "Epoch 73/100\n",
            "8/8 [==============================] - 20s 2s/step - loss: 0.3002 - accuracy: 0.8721 - val_loss: 0.9976 - val_accuracy: 0.7305\n",
            "Epoch 74/100\n",
            "8/8 [==============================] - 20s 2s/step - loss: 0.2068 - accuracy: 0.9121 - val_loss: 2.8231 - val_accuracy: 0.5781\n",
            "Epoch 75/100\n",
            "8/8 [==============================] - 20s 2s/step - loss: 0.2701 - accuracy: 0.8754 - val_loss: 1.5586 - val_accuracy: 0.6797\n",
            "Epoch 76/100\n",
            "8/8 [==============================] - 20s 3s/step - loss: 0.2128 - accuracy: 0.9244 - val_loss: 2.5066 - val_accuracy: 0.6133\n",
            "Epoch 77/100\n",
            "8/8 [==============================] - 20s 3s/step - loss: 0.1955 - accuracy: 0.9221 - val_loss: 3.2356 - val_accuracy: 0.5547\n",
            "Epoch 78/100\n",
            "8/8 [==============================] - 20s 3s/step - loss: 0.2653 - accuracy: 0.8865 - val_loss: 3.4124 - val_accuracy: 0.5547\n",
            "Epoch 79/100\n",
            "8/8 [==============================] - 20s 2s/step - loss: 0.1775 - accuracy: 0.9399 - val_loss: 2.7709 - val_accuracy: 0.6055\n",
            "Epoch 80/100\n",
            "8/8 [==============================] - 20s 2s/step - loss: 0.2421 - accuracy: 0.9010 - val_loss: 2.1965 - val_accuracy: 0.6484\n",
            "Epoch 81/100\n",
            "8/8 [==============================] - 20s 2s/step - loss: 0.2065 - accuracy: 0.9199 - val_loss: 1.7604 - val_accuracy: 0.6562\n",
            "Epoch 82/100\n",
            "8/8 [==============================] - 20s 2s/step - loss: 0.1818 - accuracy: 0.9255 - val_loss: 2.6993 - val_accuracy: 0.6211\n",
            "Epoch 83/100\n",
            "8/8 [==============================] - 20s 2s/step - loss: 0.2288 - accuracy: 0.9043 - val_loss: 1.1957 - val_accuracy: 0.7266\n",
            "Epoch 84/100\n",
            "8/8 [==============================] - 22s 3s/step - loss: 0.2646 - accuracy: 0.8999 - val_loss: 2.2206 - val_accuracy: 0.6328\n",
            "Epoch 85/100\n",
            "8/8 [==============================] - 22s 3s/step - loss: 0.1663 - accuracy: 0.9297 - val_loss: 2.2658 - val_accuracy: 0.6328\n",
            "Epoch 86/100\n",
            "8/8 [==============================] - 20s 2s/step - loss: 0.1539 - accuracy: 0.9444 - val_loss: 3.2777 - val_accuracy: 0.5664\n",
            "Epoch 87/100\n",
            "8/8 [==============================] - 22s 3s/step - loss: 0.2130 - accuracy: 0.9150 - val_loss: 2.3594 - val_accuracy: 0.6328\n",
            "Epoch 88/100\n",
            "8/8 [==============================] - 20s 2s/step - loss: 0.2143 - accuracy: 0.9166 - val_loss: 0.7851 - val_accuracy: 0.7891\n",
            "Epoch 89/100\n",
            "8/8 [==============================] - 20s 2s/step - loss: 0.2218 - accuracy: 0.9099 - val_loss: 2.2204 - val_accuracy: 0.6484\n",
            "Epoch 90/100\n",
            "8/8 [==============================] - 20s 2s/step - loss: 0.1674 - accuracy: 0.9388 - val_loss: 3.7779 - val_accuracy: 0.5508\n",
            "Epoch 91/100\n",
            "8/8 [==============================] - 20s 2s/step - loss: 0.2285 - accuracy: 0.9088 - val_loss: 1.9753 - val_accuracy: 0.6562\n",
            "Epoch 92/100\n",
            "8/8 [==============================] - 20s 2s/step - loss: 0.2083 - accuracy: 0.9232 - val_loss: 2.0819 - val_accuracy: 0.6523\n",
            "Epoch 93/100\n",
            "8/8 [==============================] - 20s 2s/step - loss: 0.1607 - accuracy: 0.9388 - val_loss: 3.6169 - val_accuracy: 0.5664\n",
            "Epoch 94/100\n",
            "8/8 [==============================] - 20s 2s/step - loss: 0.2297 - accuracy: 0.9088 - val_loss: 2.9282 - val_accuracy: 0.5938\n",
            "Epoch 95/100\n",
            "8/8 [==============================] - 20s 2s/step - loss: 0.3468 - accuracy: 0.8932 - val_loss: 2.4186 - val_accuracy: 0.6367\n",
            "Epoch 96/100\n",
            "8/8 [==============================] - 20s 2s/step - loss: 0.1528 - accuracy: 0.9377 - val_loss: 2.8646 - val_accuracy: 0.6133\n",
            "Epoch 97/100\n",
            "8/8 [==============================] - 22s 3s/step - loss: 0.1412 - accuracy: 0.9492 - val_loss: 2.6899 - val_accuracy: 0.6367\n",
            "Epoch 98/100\n",
            "8/8 [==============================] - 20s 2s/step - loss: 0.2245 - accuracy: 0.9032 - val_loss: 2.5868 - val_accuracy: 0.6328\n",
            "Epoch 99/100\n",
            "8/8 [==============================] - 22s 3s/step - loss: 0.1212 - accuracy: 0.9611 - val_loss: 3.0993 - val_accuracy: 0.6133\n",
            "Epoch 100/100\n",
            "8/8 [==============================] - 22s 3s/step - loss: 0.1902 - accuracy: 0.9229 - val_loss: 3.3324 - val_accuracy: 0.5742\n"
          ],
          "name": "stdout"
        }
      ]
    },
    {
      "cell_type": "code",
      "metadata": {
        "colab_type": "code",
        "id": "7zNPRWOVJdOH",
        "colab": {
          "base_uri": "https://localhost:8080/",
          "height": 545
        },
        "outputId": "f3b2d24c-f0aa-4b07-ee4c-6ca1593c302e"
      },
      "source": [
        "import matplotlib.pyplot as plt\n",
        "acc = history.history['accuracy']\n",
        "val_acc = history.history['val_accuracy']\n",
        "loss = history.history['loss']\n",
        "val_loss = history.history['val_loss']\n",
        "\n",
        "epochs = range(len(acc))\n",
        "\n",
        "plt.plot(epochs, acc, 'r', label='Training accuracy')\n",
        "plt.plot(epochs, val_acc, 'b', label='Validation accuracy')\n",
        "plt.title('Training and validation accuracy')\n",
        "\n",
        "plt.figure()\n",
        "\n",
        "plt.plot(epochs, loss, 'r', label='Training Loss')\n",
        "plt.plot(epochs, val_loss, 'b', label='Validation Loss')\n",
        "plt.title('Training and validation loss')\n",
        "plt.legend()\n",
        "\n",
        "plt.show()"
      ],
      "execution_count": 7,
      "outputs": [
        {
          "output_type": "display_data",
          "data": {
            "image/png": "[encoded data removed]",
            "text/plain": [
              "<Figure size 432x288 with 1 Axes>"
            ]
          },
          "metadata": {
            "tags": [],
            "needs_background": "light"
          }
        },
        {
          "output_type": "display_data",
          "data": {
            "image/png": "[encoded data removed]",
            "text/plain": [
              "<Figure size 432x288 with 1 Axes>"
            ]
          },
          "metadata": {
            "tags": [],
            "needs_background": "light"
          }
        }
      ]
    }
  ]
}