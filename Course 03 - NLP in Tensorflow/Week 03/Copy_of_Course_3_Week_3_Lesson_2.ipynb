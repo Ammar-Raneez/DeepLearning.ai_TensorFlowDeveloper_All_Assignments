{
  "nbformat": 4,
  "nbformat_minor": 0,
  "metadata": {
    "accelerator": "GPU",
    "colab": {
      "name": "Copy of Course 3 - Week 3 - Lesson 2.ipynb",
      "provenance": [],
      "collapsed_sections": []
    },
    "kernelspec": {
      "display_name": "Python 3",
      "language": "python",
      "name": "python3"
    },
    "language_info": {
      "codemirror_mode": {
        "name": "ipython",
        "version": 3
      },
      "file_extension": ".py",
      "mimetype": "text/x-python",
      "name": "python",
      "nbconvert_exporter": "python",
      "pygments_lexer": "ipython3",
      "version": "3.7.6"
    }
  },
  "cells": [
    {
      "cell_type": "code",
      "metadata": {
        "colab_type": "code",
        "id": "zX4Kg8DUTKWO",
        "colab": {}
      },
      "source": [
        "#@title Licensed under the Apache License, Version 2.0 (the \"License\");\n",
        "# you may not use this file except in compliance with the License.\n",
        "# You may obtain a copy of the License at\n",
        "#\n",
        "# https://www.apache.org/licenses/LICENSE-2.0\n",
        "#\n",
        "# Unless required by applicable law or agreed to in writing, software\n",
        "# distributed under the License is distributed on an \"AS IS\" BASIS,\n",
        "# WITHOUT WARRANTIES OR CONDITIONS OF ANY KIND, either express or implied.\n",
        "# See the License for the specific language governing permissions and\n",
        "# limitations under the License."
      ],
      "execution_count": null,
      "outputs": []
    },
    {
      "cell_type": "markdown",
      "metadata": {
        "id": "jGtGtoSF7zsf",
        "colab_type": "text"
      },
      "source": [
        "<a href=\"https://colab.research.google.com/github/lmoroney/dlaicourse/blob/master/TensorFlow%20In%20Practice/Course%203%20-%20NLP/Course%203%20-%20Week%203%20-%20Lesson%202.ipynb\" target=\"_parent\"><img src=\"https://colab.research.google.com/assets/colab-badge.svg\" alt=\"Open In Colab\"/></a>"
      ]
    },
    {
      "cell_type": "code",
      "metadata": {
        "colab_type": "code",
        "id": "jGwXGIXvFhXW",
        "colab": {
          "base_uri": "https://localhost:8080/",
          "height": 1000
        },
        "outputId": "5b397428-c317-4a9f-a35d-3a163060edf8"
      },
      "source": [
        "import numpy as np\n",
        "\n",
        "import json\n",
        "import tensorflow as tf\n",
        "\n",
        "from tensorflow.keras.preprocessing.text import Tokenizer\n",
        "from tensorflow.keras.preprocessing.sequence import pad_sequences\n",
        "\n",
        "!wget --no-check-certificate \\\n",
        "    https://storage.googleapis.com/laurencemoroney-blog.appspot.com/sarcasm.json \\\n",
        "    -O /tmp/sarcasm.json\n",
        "\n",
        "vocab_size = 1000\n",
        "embedding_dim = 16\n",
        "max_length = 120\n",
        "trunc_type='post'\n",
        "padding_type='post'\n",
        "oov_tok = \"<OOV>\"\n",
        "training_size = 20000\n",
        "\n",
        "\n",
        "with open(\"/tmp/sarcasm.json\", 'r') as f:\n",
        "    datastore = json.load(f)\n",
        "\n",
        "\n",
        "sentences = []\n",
        "labels = []\n",
        "urls = []\n",
        "for item in datastore:\n",
        "    sentences.append(item['headline'])\n",
        "    labels.append(item['is_sarcastic'])\n",
        "\n",
        "training_sentences = sentences[0:training_size]\n",
        "testing_sentences = sentences[training_size:]\n",
        "training_labels = labels[0:training_size]\n",
        "testing_labels = labels[training_size:]\n",
        "\n",
        "tokenizer = Tokenizer(num_words=vocab_size, oov_token=oov_tok)\n",
        "tokenizer.fit_on_texts(training_sentences)\n",
        "\n",
        "word_index = tokenizer.word_index\n",
        "\n",
        "training_sequences = tokenizer.texts_to_sequences(training_sentences)\n",
        "training_padded = pad_sequences(training_sequences, maxlen=max_length, padding=padding_type, truncating=trunc_type)\n",
        "\n",
        "testing_sequences = tokenizer.texts_to_sequences(testing_sentences)\n",
        "testing_padded = pad_sequences(testing_sequences, maxlen=max_length, padding=padding_type, truncating=trunc_type)\n",
        "\n",
        "model = tf.keras.Sequential([\n",
        "    tf.keras.layers.Embedding(vocab_size, embedding_dim, input_length=max_length),\n",
        "    tf.keras.layers.Bidirectional(tf.keras.layers.LSTM(32)),\n",
        "    tf.keras.layers.Dense(24, activation='relu'),\n",
        "    tf.keras.layers.Dense(1, activation='sigmoid')\n",
        "])\n",
        "model.compile(loss='binary_crossentropy',optimizer='adam',metrics=['accuracy'])\n",
        "model.summary()\n",
        "\n",
        "num_epochs = 50\n",
        "training_padded = np.array(training_padded)\n",
        "training_labels = np.array(training_labels)\n",
        "testing_padded = np.array(testing_padded)\n",
        "testing_labels = np.array(testing_labels)\n",
        "history = model.fit(training_padded, training_labels, epochs=num_epochs, validation_data=(testing_padded, testing_labels), verbose=1)\n"
      ],
      "execution_count": 1,
      "outputs": [
        {
          "output_type": "stream",
          "text": [
            "--2020-09-20 10:01:51--  https://storage.googleapis.com/laurencemoroney-blog.appspot.com/sarcasm.json\n",
            "Resolving storage.googleapis.com (storage.googleapis.com)... 66.102.1.128, 64.233.167.128, 74.125.133.128, ...\n",
            "Connecting to storage.googleapis.com (storage.googleapis.com)|66.102.1.128|:443... connected.\n",
            "HTTP request sent, awaiting response... 200 OK\n",
            "Length: 5643545 (5.4M) [application/json]\n",
            "Saving to: ‘/tmp/sarcasm.json’\n",
            "\n",
            "/tmp/sarcasm.json   100%[===================>]   5.38M  --.-KB/s    in 0.05s   \n",
            "\n",
            "2020-09-20 10:01:52 (107 MB/s) - ‘/tmp/sarcasm.json’ saved [5643545/5643545]\n",
            "\n",
            "Model: \"sequential\"\n",
            "_________________________________________________________________\n",
            "Layer (type)                 Output Shape              Param #   \n",
            "=================================================================\n",
            "embedding (Embedding)        (None, 120, 16)           16000     \n",
            "_________________________________________________________________\n",
            "bidirectional (Bidirectional (None, 64)                12544     \n",
            "_________________________________________________________________\n",
            "dense (Dense)                (None, 24)                1560      \n",
            "_________________________________________________________________\n",
            "dense_1 (Dense)              (None, 1)                 25        \n",
            "=================================================================\n",
            "Total params: 30,129\n",
            "Trainable params: 30,129\n",
            "Non-trainable params: 0\n",
            "_________________________________________________________________\n",
            "Epoch 1/50\n",
            "625/625 [==============================] - 37s 59ms/step - loss: 0.4635 - accuracy: 0.7669 - val_loss: 0.3840 - val_accuracy: 0.8223\n",
            "Epoch 2/50\n",
            "625/625 [==============================] - 36s 58ms/step - loss: 0.3499 - accuracy: 0.8408 - val_loss: 0.3812 - val_accuracy: 0.8255\n",
            "Epoch 3/50\n",
            "625/625 [==============================] - 37s 59ms/step - loss: 0.3265 - accuracy: 0.8526 - val_loss: 0.3676 - val_accuracy: 0.8308\n",
            "Epoch 4/50\n",
            "625/625 [==============================] - 36s 58ms/step - loss: 0.3106 - accuracy: 0.8619 - val_loss: 0.4136 - val_accuracy: 0.8109\n",
            "Epoch 5/50\n",
            "625/625 [==============================] - 36s 58ms/step - loss: 0.3008 - accuracy: 0.8667 - val_loss: 0.3745 - val_accuracy: 0.8331\n",
            "Epoch 6/50\n",
            "625/625 [==============================] - 36s 58ms/step - loss: 0.2937 - accuracy: 0.8706 - val_loss: 0.3901 - val_accuracy: 0.8302\n",
            "Epoch 7/50\n",
            "625/625 [==============================] - 36s 58ms/step - loss: 0.2852 - accuracy: 0.8755 - val_loss: 0.3866 - val_accuracy: 0.8255\n",
            "Epoch 8/50\n",
            "625/625 [==============================] - 36s 58ms/step - loss: 0.2782 - accuracy: 0.8795 - val_loss: 0.4029 - val_accuracy: 0.8246\n",
            "Epoch 9/50\n",
            "625/625 [==============================] - 37s 58ms/step - loss: 0.2724 - accuracy: 0.8823 - val_loss: 0.4028 - val_accuracy: 0.8278\n",
            "Epoch 10/50\n",
            "625/625 [==============================] - 36s 58ms/step - loss: 0.2677 - accuracy: 0.8827 - val_loss: 0.3939 - val_accuracy: 0.8281\n",
            "Epoch 11/50\n",
            "625/625 [==============================] - 36s 58ms/step - loss: 0.2604 - accuracy: 0.8876 - val_loss: 0.3994 - val_accuracy: 0.8286\n",
            "Epoch 12/50\n",
            "625/625 [==============================] - 36s 58ms/step - loss: 0.2568 - accuracy: 0.8896 - val_loss: 0.4023 - val_accuracy: 0.8259\n",
            "Epoch 13/50\n",
            "625/625 [==============================] - 37s 59ms/step - loss: 0.2501 - accuracy: 0.8928 - val_loss: 0.4202 - val_accuracy: 0.8238\n",
            "Epoch 14/50\n",
            "625/625 [==============================] - 37s 58ms/step - loss: 0.2426 - accuracy: 0.8964 - val_loss: 0.4257 - val_accuracy: 0.8255\n",
            "Epoch 15/50\n",
            "625/625 [==============================] - 37s 58ms/step - loss: 0.2332 - accuracy: 0.9001 - val_loss: 0.4321 - val_accuracy: 0.8234\n",
            "Epoch 16/50\n",
            "625/625 [==============================] - 36s 58ms/step - loss: 0.2267 - accuracy: 0.9034 - val_loss: 0.4440 - val_accuracy: 0.8220\n",
            "Epoch 17/50\n",
            "625/625 [==============================] - 36s 58ms/step - loss: 0.2168 - accuracy: 0.9101 - val_loss: 0.4571 - val_accuracy: 0.8192\n",
            "Epoch 18/50\n",
            "625/625 [==============================] - 36s 58ms/step - loss: 0.2090 - accuracy: 0.9130 - val_loss: 0.5012 - val_accuracy: 0.8170\n",
            "Epoch 19/50\n",
            "625/625 [==============================] - 36s 58ms/step - loss: 0.2013 - accuracy: 0.9169 - val_loss: 0.5083 - val_accuracy: 0.8170\n",
            "Epoch 20/50\n",
            "625/625 [==============================] - 36s 58ms/step - loss: 0.1938 - accuracy: 0.9198 - val_loss: 0.5239 - val_accuracy: 0.8173\n",
            "Epoch 21/50\n",
            "625/625 [==============================] - 36s 58ms/step - loss: 0.1871 - accuracy: 0.9237 - val_loss: 0.5647 - val_accuracy: 0.8132\n",
            "Epoch 22/50\n",
            "625/625 [==============================] - 36s 58ms/step - loss: 0.1819 - accuracy: 0.9257 - val_loss: 0.6062 - val_accuracy: 0.8144\n",
            "Epoch 23/50\n",
            "625/625 [==============================] - 36s 58ms/step - loss: 0.1750 - accuracy: 0.9281 - val_loss: 0.5875 - val_accuracy: 0.8143\n",
            "Epoch 24/50\n",
            "625/625 [==============================] - 36s 58ms/step - loss: 0.1681 - accuracy: 0.9326 - val_loss: 0.5818 - val_accuracy: 0.8082\n",
            "Epoch 25/50\n",
            "625/625 [==============================] - 36s 58ms/step - loss: 0.1648 - accuracy: 0.9327 - val_loss: 0.6324 - val_accuracy: 0.8103\n",
            "Epoch 26/50\n",
            "625/625 [==============================] - 36s 58ms/step - loss: 0.1550 - accuracy: 0.9391 - val_loss: 0.6968 - val_accuracy: 0.8047\n",
            "Epoch 27/50\n",
            "625/625 [==============================] - 36s 58ms/step - loss: 0.1487 - accuracy: 0.9402 - val_loss: 0.7084 - val_accuracy: 0.8073\n",
            "Epoch 28/50\n",
            "625/625 [==============================] - 36s 58ms/step - loss: 0.1460 - accuracy: 0.9420 - val_loss: 0.7767 - val_accuracy: 0.8041\n",
            "Epoch 29/50\n",
            "625/625 [==============================] - 36s 58ms/step - loss: 0.1377 - accuracy: 0.9463 - val_loss: 0.8230 - val_accuracy: 0.8032\n",
            "Epoch 30/50\n",
            "625/625 [==============================] - 36s 58ms/step - loss: 0.1313 - accuracy: 0.9477 - val_loss: 0.8399 - val_accuracy: 0.8058\n",
            "Epoch 31/50\n",
            "625/625 [==============================] - 36s 58ms/step - loss: 0.1298 - accuracy: 0.9494 - val_loss: 0.8402 - val_accuracy: 0.8046\n",
            "Epoch 32/50\n",
            "625/625 [==============================] - 36s 58ms/step - loss: 0.1232 - accuracy: 0.9510 - val_loss: 0.9083 - val_accuracy: 0.8012\n",
            "Epoch 33/50\n",
            "625/625 [==============================] - 36s 58ms/step - loss: 0.1166 - accuracy: 0.9545 - val_loss: 0.9682 - val_accuracy: 0.7983\n",
            "Epoch 34/50\n",
            "625/625 [==============================] - 36s 58ms/step - loss: 0.1115 - accuracy: 0.9567 - val_loss: 1.0145 - val_accuracy: 0.8016\n",
            "Epoch 35/50\n",
            "625/625 [==============================] - 36s 58ms/step - loss: 0.1084 - accuracy: 0.9582 - val_loss: 0.9849 - val_accuracy: 0.8027\n",
            "Epoch 36/50\n",
            "625/625 [==============================] - 36s 58ms/step - loss: 0.0990 - accuracy: 0.9607 - val_loss: 1.1379 - val_accuracy: 0.7976\n",
            "Epoch 37/50\n",
            "625/625 [==============================] - 36s 58ms/step - loss: 0.1024 - accuracy: 0.9599 - val_loss: 1.0970 - val_accuracy: 0.7952\n",
            "Epoch 38/50\n",
            "625/625 [==============================] - 36s 58ms/step - loss: 0.1000 - accuracy: 0.9614 - val_loss: 1.1092 - val_accuracy: 0.7977\n",
            "Epoch 39/50\n",
            "625/625 [==============================] - 36s 58ms/step - loss: 0.0915 - accuracy: 0.9652 - val_loss: 1.1569 - val_accuracy: 0.7942\n",
            "Epoch 40/50\n",
            "625/625 [==============================] - 36s 58ms/step - loss: 0.0894 - accuracy: 0.9645 - val_loss: 1.2104 - val_accuracy: 0.7909\n",
            "Epoch 41/50\n",
            "625/625 [==============================] - 36s 58ms/step - loss: 0.0827 - accuracy: 0.9682 - val_loss: 1.2537 - val_accuracy: 0.7940\n",
            "Epoch 42/50\n",
            "625/625 [==============================] - 36s 58ms/step - loss: 0.0836 - accuracy: 0.9671 - val_loss: 1.3694 - val_accuracy: 0.7919\n",
            "Epoch 43/50\n",
            "625/625 [==============================] - 36s 58ms/step - loss: 0.0804 - accuracy: 0.9669 - val_loss: 1.3401 - val_accuracy: 0.7992\n",
            "Epoch 44/50\n",
            "625/625 [==============================] - 36s 58ms/step - loss: 0.0763 - accuracy: 0.9691 - val_loss: 1.3942 - val_accuracy: 0.7897\n",
            "Epoch 45/50\n",
            "625/625 [==============================] - 36s 58ms/step - loss: 0.0726 - accuracy: 0.9707 - val_loss: 1.5525 - val_accuracy: 0.7900\n",
            "Epoch 46/50\n",
            "625/625 [==============================] - 36s 57ms/step - loss: 0.0712 - accuracy: 0.9714 - val_loss: 1.5163 - val_accuracy: 0.7913\n",
            "Epoch 47/50\n",
            "625/625 [==============================] - 36s 57ms/step - loss: 0.0719 - accuracy: 0.9707 - val_loss: 1.4223 - val_accuracy: 0.7956\n",
            "Epoch 48/50\n",
            "625/625 [==============================] - 36s 58ms/step - loss: 0.0700 - accuracy: 0.9724 - val_loss: 1.4929 - val_accuracy: 0.7906\n",
            "Epoch 49/50\n",
            "625/625 [==============================] - 36s 58ms/step - loss: 0.0657 - accuracy: 0.9725 - val_loss: 1.5914 - val_accuracy: 0.7956\n",
            "Epoch 50/50\n",
            "625/625 [==============================] - 36s 58ms/step - loss: 0.0582 - accuracy: 0.9758 - val_loss: 1.7194 - val_accuracy: 0.7931\n"
          ],
          "name": "stdout"
        }
      ]
    },
    {
      "cell_type": "code",
      "metadata": {
        "colab_type": "code",
        "id": "g9DC6dmLF8DC",
        "colab": {
          "base_uri": "https://localhost:8080/",
          "height": 541
        },
        "outputId": "2752216e-d2d5-4b72-e941-93477a633960"
      },
      "source": [
        "import matplotlib.pyplot as plt\n",
        "\n",
        "\n",
        "def plot_graphs(history, string):\n",
        "  plt.plot(history.history[string])\n",
        "  plt.plot(history.history['val_'+string])\n",
        "  plt.xlabel(\"Epochs\")\n",
        "  plt.ylabel(string)\n",
        "  plt.legend([string, 'val_'+string])\n",
        "  plt.show()\n",
        "\n",
        "plot_graphs(history, 'accuracy')\n",
        "plot_graphs(history, 'loss')"
      ],
      "execution_count": 2,
      "outputs": [
        {
          "output_type": "display_data",
          "data": {
            "image/png": "[encoded data removed]",
            "text/plain": [
              "<Figure size 432x288 with 1 Axes>"
            ]
          },
          "metadata": {
            "tags": [],
            "needs_background": "light"
          }
        },
        {
          "output_type": "display_data",
          "data": {
            "image/png": "[encoded data removed]",
            "text/plain": [
              "<Figure size 432x288 with 1 Axes>"
            ]
          },
          "metadata": {
            "tags": [],
            "needs_background": "light"
          }
        }
      ]
    },
    {
      "cell_type": "code",
      "metadata": {
        "colab_type": "code",
        "id": "7ZEZIUppGhdi",
        "colab": {}
      },
      "source": [
        "model.save(\"test.h5\")"
      ],
      "execution_count": null,
      "outputs": []
    }
  ]
}