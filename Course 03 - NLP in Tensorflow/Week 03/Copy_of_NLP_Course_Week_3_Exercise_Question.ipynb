{
  "nbformat": 4,
  "nbformat_minor": 0,
  "metadata": {
    "accelerator": "GPU",
    "colab": {
      "name": "Copy of NLP Course - Week 3 Exercise Question.ipynb",
      "provenance": [],
      "collapsed_sections": []
    },
    "kernelspec": {
      "display_name": "Python 3",
      "name": "python3"
    }
  },
  "cells": [
    {
      "cell_type": "code",
      "metadata": {
        "id": "zX4Kg8DUTKWO",
        "colab_type": "code",
        "colab": {}
      },
      "source": [
        "#@title Licensed under the Apache License, Version 2.0 (the \"License\");\n",
        "# you may not use this file except in compliance with the License.\n",
        "# You may obtain a copy of the License at\n",
        "#\n",
        "# https://www.apache.org/licenses/LICENSE-2.0\n",
        "#\n",
        "# Unless required by applicable law or agreed to in writing, software\n",
        "# distributed under the License is distributed on an \"AS IS\" BASIS,\n",
        "# WITHOUT WARRANTIES OR CONDITIONS OF ANY KIND, either express or implied.\n",
        "# See the License for the specific language governing permissions and\n",
        "# limitations under the License."
      ],
      "execution_count": null,
      "outputs": []
    },
    {
      "cell_type": "code",
      "metadata": {
        "colab_type": "code",
        "id": "hmA6EzkQJ5jt",
        "colab": {}
      },
      "source": [
        "import json\n",
        "import tensorflow as tf\n",
        "import csv\n",
        "import random\n",
        "import numpy as np\n",
        "\n",
        "from tensorflow.keras.preprocessing.text import Tokenizer\n",
        "from tensorflow.keras.preprocessing.sequence import pad_sequences\n",
        "from tensorflow.keras.utils import to_categorical\n",
        "from tensorflow.keras import regularizers\n",
        "\n",
        "\n",
        "embedding_dim = 100\n",
        "max_length = 16\n",
        "trunc_type='post'\n",
        "padding_type='post'\n",
        "oov_tok = \"<OOV>\"\n",
        "training_size=160000\n",
        "test_portion=.1\n",
        "\n",
        "corpus = []\n"
      ],
      "execution_count": 19,
      "outputs": []
    },
    {
      "cell_type": "code",
      "metadata": {
        "colab_type": "code",
        "id": "bM0l_dORKqE0",
        "colab": {
          "base_uri": "https://localhost:8080/",
          "height": 204
        },
        "outputId": "d3d37f22-da22-4ff1-821c-955ef48d794f"
      },
      "source": [
        "# Note that I cleaned the Stanford dataset to remove LATIN1 encoding to make it easier for Python CSV reader\n",
        "# You can do that yourself with:\n",
        "# iconv -f LATIN1 -t UTF8 training.1600000.processed.noemoticon.csv -o training_cleaned.csv\n",
        "# I then hosted it on my site to make it easier to use in this notebook\n",
        "\n",
        "!wget --no-check-certificate \\\n",
        "    https://storage.googleapis.com/laurencemoroney-blog.appspot.com/training_cleaned.csv \\\n",
        "    -O /tmp/training_cleaned.csv\n",
        "\n",
        "num_sentences = 0\n",
        "\n",
        "with open(\"/tmp/training_cleaned.csv\") as csvfile:\n",
        "    reader = csv.reader(csvfile, delimiter=',')\n",
        "    for row in reader:\n",
        "      # Your Code here. Create list items where the first item is the text, found in row[5], and the second is the label. Note that the label is a '0' or a '4' in the text. When it's the former, make\n",
        "      # your label to be 0, otherwise 1. Keep a count of the number of sentences in num_sentences\n",
        "        list_item=[]\n",
        "        list_item.append(row[5])\n",
        "        label = row[0]\n",
        "        if label=='0':\n",
        "          list_item.append(0)\n",
        "        else:\n",
        "          list_item.append(1)\n",
        "        num_sentences = num_sentences + 1\n",
        "        corpus.append(list_item)\n"
      ],
      "execution_count": 20,
      "outputs": [
        {
          "output_type": "stream",
          "text": [
            "--2020-09-20 11:21:43--  https://storage.googleapis.com/laurencemoroney-blog.appspot.com/training_cleaned.csv\n",
            "Resolving storage.googleapis.com (storage.googleapis.com)... 108.177.126.128, 108.177.127.128, 108.177.119.128, ...\n",
            "Connecting to storage.googleapis.com (storage.googleapis.com)|108.177.126.128|:443... connected.\n",
            "HTTP request sent, awaiting response... 200 OK\n",
            "Length: 238942690 (228M) [application/octet-stream]\n",
            "Saving to: ‘/tmp/training_cleaned.csv’\n",
            "\n",
            "/tmp/training_clean 100%[===================>] 227.87M  82.4MB/s    in 2.8s    \n",
            "\n",
            "2020-09-20 11:21:46 (82.4 MB/s) - ‘/tmp/training_cleaned.csv’ saved [238942690/238942690]\n",
            "\n"
          ],
          "name": "stdout"
        }
      ]
    },
    {
      "cell_type": "code",
      "metadata": {
        "colab_type": "code",
        "id": "3kxblBUjEUX-",
        "colab": {
          "base_uri": "https://localhost:8080/",
          "height": 68
        },
        "outputId": "aba2c4de-6fc4-40a7-ce06-927c32d6c96e"
      },
      "source": [
        "print(num_sentences)\n",
        "print(len(corpus))\n",
        "print(corpus[1])\n",
        "\n",
        "# Expected Output:\n",
        "# 1600000\n",
        "# 1600000\n",
        "# [\"is upset that he can't update his Facebook by texting it... and might cry as a result  School today also. Blah!\", 0]"
      ],
      "execution_count": 21,
      "outputs": [
        {
          "output_type": "stream",
          "text": [
            "1600000\n",
            "1600000\n",
            "[\"is upset that he can't update his Facebook by texting it... and might cry as a result  School today also. Blah!\", 0]\n"
          ],
          "name": "stdout"
        }
      ]
    },
    {
      "cell_type": "code",
      "metadata": {
        "colab_type": "code",
        "id": "ohOGz24lsNAD",
        "colab": {}
      },
      "source": [
        "sentences=[]\n",
        "labels=[]\n",
        "random.shuffle(corpus)\n",
        "for x in range(training_size):\n",
        "    sentences.append(corpus[x][0])\n",
        "    labels.append(corpus[x][1])\n",
        "\n",
        "\n",
        "tokenizer = Tokenizer()\n",
        "tokenizer.fit_on_texts(sentences)\n",
        "\n",
        "word_index = tokenizer.word_index\n",
        "vocab_size=len(word_index)\n",
        "\n",
        "sequences = tokenizer.texts_to_sequences(sentences)\n",
        "padded = pad_sequences(sequences, maxlen=max_length, padding=padding_type, truncating=trunc_type)\n",
        "\n",
        "split = int(test_portion * training_size)\n",
        "\n",
        "test_sequences = padded[:split]\n",
        "training_sequences = padded[split:training_size]\n",
        "test_labels = labels[:split]\n",
        "training_labels = labels[split:training_size]"
      ],
      "execution_count": 22,
      "outputs": []
    },
    {
      "cell_type": "code",
      "metadata": {
        "colab_type": "code",
        "id": "gIrtRem1En3N",
        "colab": {
          "base_uri": "https://localhost:8080/",
          "height": 51
        },
        "outputId": "7810c20c-8878-4f08-8925-e06613ead781"
      },
      "source": [
        "print(vocab_size)\n",
        "print(word_index['i'])\n",
        "# Expected Output\n",
        "# 138858\n",
        "# 1"
      ],
      "execution_count": 23,
      "outputs": [
        {
          "output_type": "stream",
          "text": [
            "138589\n",
            "1\n"
          ],
          "name": "stdout"
        }
      ]
    },
    {
      "cell_type": "code",
      "metadata": {
        "colab_type": "code",
        "id": "C1zdgJkusRh0",
        "colab": {
          "base_uri": "https://localhost:8080/",
          "height": 204
        },
        "outputId": "2fdc28aa-67ed-4972-96cf-2c722de481d1"
      },
      "source": [
        "# Note this is the 100 dimension version of GloVe from Stanford\n",
        "# I unzipped and hosted it on my site to make this notebook easier\n",
        "!wget --no-check-certificate \\\n",
        "    https://storage.googleapis.com/laurencemoroney-blog.appspot.com/glove.6B.100d.txt \\\n",
        "    -O /tmp/glove.6B.100d.txt\n",
        "embeddings_index = {};\n",
        "with open('/tmp/glove.6B.100d.txt') as f:\n",
        "    for line in f:\n",
        "        values = line.split();\n",
        "        word = values[0];\n",
        "        coefs = np.asarray(values[1:], dtype='float32');\n",
        "        embeddings_index[word] = coefs;\n",
        "\n",
        "embeddings_matrix = np.zeros((vocab_size+1, embedding_dim));\n",
        "for word, i in word_index.items():\n",
        "    embedding_vector = embeddings_index.get(word);\n",
        "    if embedding_vector is not None:\n",
        "        embeddings_matrix[i] = embedding_vector;"
      ],
      "execution_count": 24,
      "outputs": [
        {
          "output_type": "stream",
          "text": [
            "--2020-09-20 11:22:19--  https://storage.googleapis.com/laurencemoroney-blog.appspot.com/glove.6B.100d.txt\n",
            "Resolving storage.googleapis.com (storage.googleapis.com)... 108.177.126.128, 108.177.127.128, 108.177.119.128, ...\n",
            "Connecting to storage.googleapis.com (storage.googleapis.com)|108.177.126.128|:443... connected.\n",
            "HTTP request sent, awaiting response... 200 OK\n",
            "Length: 347116733 (331M) [text/plain]\n",
            "Saving to: ‘/tmp/glove.6B.100d.txt’\n",
            "\n",
            "/tmp/glove.6B.100d. 100%[===================>] 331.04M  75.5MB/s    in 4.4s    \n",
            "\n",
            "2020-09-20 11:22:23 (75.5 MB/s) - ‘/tmp/glove.6B.100d.txt’ saved [347116733/347116733]\n",
            "\n"
          ],
          "name": "stdout"
        }
      ]
    },
    {
      "cell_type": "code",
      "metadata": {
        "colab_type": "code",
        "id": "71NLk_lpFLNt",
        "colab": {
          "base_uri": "https://localhost:8080/",
          "height": 34
        },
        "outputId": "2e20f88a-4963-4f1d-8a72-ae16dc33b9e8"
      },
      "source": [
        "print(len(embeddings_matrix))\n",
        "# Expected Output\n",
        "# 138859"
      ],
      "execution_count": 25,
      "outputs": [
        {
          "output_type": "stream",
          "text": [
            "138590\n"
          ],
          "name": "stdout"
        }
      ]
    },
    {
      "cell_type": "code",
      "metadata": {
        "colab_type": "code",
        "id": "iKKvbuEBOGFz",
        "colab": {
          "base_uri": "https://localhost:8080/",
          "height": 1000
        },
        "outputId": "7a095c01-c3e8-431a-e387-6fe611c6c781"
      },
      "source": [
        "model = tf.keras.Sequential([\n",
        "    tf.keras.layers.Embedding(vocab_size+1, embedding_dim, input_length=max_length, weights=[embeddings_matrix], trainable=False),\n",
        "    tf.keras.layers.Bidirectional(tf.keras.layers.LSTM(64, return_sequences=True)),\n",
        "    tf.keras.layers.Bidirectional(tf.keras.layers.LSTM(32)),\n",
        "    tf.keras.layers.Dense(512, activation='relu'),\n",
        "    tf.keras.layers.Dense(1, activation='sigmoid')\n",
        "\n",
        "])\n",
        "model.compile(optimizer='adam', loss='binary_crossentropy', metrics=['accuracy'])\n",
        "model.summary()\n",
        "\n",
        "num_epochs = 50\n",
        "#remember, necessary to convert it into a numpy array\n",
        "training_padded = np.array(training_sequences)\n",
        "training_labels = np.array(training_labels)\n",
        "testing_padded = np.array(test_sequences)\n",
        "testing_labels = np.array(test_labels)\n",
        "\n",
        "history = model.fit(training_padded, training_labels, epochs=num_epochs, validation_data=(testing_padded, testing_labels), verbose=2)\n",
        "\n",
        "print(\"Training Complete\")\n"
      ],
      "execution_count": 28,
      "outputs": [
        {
          "output_type": "stream",
          "text": [
            "Model: \"sequential_3\"\n",
            "_________________________________________________________________\n",
            "Layer (type)                 Output Shape              Param #   \n",
            "=================================================================\n",
            "embedding_4 (Embedding)      (None, 16, 100)           13859000  \n",
            "_________________________________________________________________\n",
            "bidirectional_6 (Bidirection (None, 16, 128)           84480     \n",
            "_________________________________________________________________\n",
            "bidirectional_7 (Bidirection (None, 64)                41216     \n",
            "_________________________________________________________________\n",
            "dense_6 (Dense)              (None, 512)               33280     \n",
            "_________________________________________________________________\n",
            "dense_7 (Dense)              (None, 1)                 513       \n",
            "=================================================================\n",
            "Total params: 14,018,489\n",
            "Trainable params: 159,489\n",
            "Non-trainable params: 13,859,000\n",
            "_________________________________________________________________\n",
            "Epoch 1/50\n",
            "4500/4500 - 39s - loss: 0.5300 - accuracy: 0.7305 - val_loss: 0.5189 - val_accuracy: 0.7428\n",
            "Epoch 2/50\n",
            "4500/4500 - 39s - loss: 0.4780 - accuracy: 0.7692 - val_loss: 0.4840 - val_accuracy: 0.7688\n",
            "Epoch 3/50\n",
            "4500/4500 - 38s - loss: 0.4519 - accuracy: 0.7843 - val_loss: 0.4813 - val_accuracy: 0.7709\n",
            "Epoch 4/50\n",
            "4500/4500 - 38s - loss: 0.4299 - accuracy: 0.7977 - val_loss: 0.4856 - val_accuracy: 0.7713\n",
            "Epoch 5/50\n",
            "4500/4500 - 39s - loss: 0.4089 - accuracy: 0.8097 - val_loss: 0.4759 - val_accuracy: 0.7712\n",
            "Epoch 6/50\n",
            "4500/4500 - 39s - loss: 0.3852 - accuracy: 0.8229 - val_loss: 0.4912 - val_accuracy: 0.7732\n",
            "Epoch 7/50\n",
            "4500/4500 - 38s - loss: 0.3605 - accuracy: 0.8353 - val_loss: 0.5026 - val_accuracy: 0.7686\n",
            "Epoch 8/50\n",
            "4500/4500 - 38s - loss: 0.3341 - accuracy: 0.8488 - val_loss: 0.5450 - val_accuracy: 0.7673\n",
            "Epoch 9/50\n",
            "4500/4500 - 38s - loss: 0.3079 - accuracy: 0.8617 - val_loss: 0.6053 - val_accuracy: 0.7602\n",
            "Epoch 10/50\n",
            "4500/4500 - 38s - loss: 0.2826 - accuracy: 0.8739 - val_loss: 0.6253 - val_accuracy: 0.7588\n",
            "Epoch 11/50\n",
            "4500/4500 - 38s - loss: 0.2588 - accuracy: 0.8856 - val_loss: 0.7010 - val_accuracy: 0.7539\n",
            "Epoch 12/50\n",
            "4500/4500 - 38s - loss: 0.2377 - accuracy: 0.8952 - val_loss: 0.7750 - val_accuracy: 0.7519\n",
            "Epoch 13/50\n",
            "4500/4500 - 38s - loss: 0.2178 - accuracy: 0.9054 - val_loss: 0.8033 - val_accuracy: 0.7463\n",
            "Epoch 14/50\n",
            "4500/4500 - 39s - loss: 0.2014 - accuracy: 0.9129 - val_loss: 0.8843 - val_accuracy: 0.7464\n",
            "Epoch 15/50\n",
            "4500/4500 - 38s - loss: 0.1851 - accuracy: 0.9198 - val_loss: 0.9130 - val_accuracy: 0.7486\n",
            "Epoch 16/50\n",
            "4500/4500 - 38s - loss: 0.1712 - accuracy: 0.9269 - val_loss: 1.0309 - val_accuracy: 0.7429\n",
            "Epoch 17/50\n",
            "4500/4500 - 38s - loss: 0.1615 - accuracy: 0.9318 - val_loss: 1.0619 - val_accuracy: 0.7471\n",
            "Epoch 18/50\n",
            "4500/4500 - 38s - loss: 0.1493 - accuracy: 0.9361 - val_loss: 1.1961 - val_accuracy: 0.7416\n",
            "Epoch 19/50\n",
            "4500/4500 - 38s - loss: 0.1411 - accuracy: 0.9409 - val_loss: 1.2212 - val_accuracy: 0.7410\n",
            "Epoch 20/50\n",
            "4500/4500 - 38s - loss: 0.1334 - accuracy: 0.9445 - val_loss: 1.3116 - val_accuracy: 0.7396\n",
            "Epoch 21/50\n",
            "4500/4500 - 37s - loss: 0.1249 - accuracy: 0.9483 - val_loss: 1.2975 - val_accuracy: 0.7442\n",
            "Epoch 22/50\n",
            "4500/4500 - 37s - loss: 0.1182 - accuracy: 0.9517 - val_loss: 1.3060 - val_accuracy: 0.7348\n",
            "Epoch 23/50\n",
            "4500/4500 - 37s - loss: 0.1122 - accuracy: 0.9545 - val_loss: 1.4461 - val_accuracy: 0.7423\n",
            "Epoch 24/50\n",
            "4500/4500 - 37s - loss: 0.1079 - accuracy: 0.9558 - val_loss: 1.4563 - val_accuracy: 0.7409\n",
            "Epoch 25/50\n",
            "4500/4500 - 37s - loss: 0.1034 - accuracy: 0.9582 - val_loss: 1.5059 - val_accuracy: 0.7379\n",
            "Epoch 26/50\n",
            "4500/4500 - 37s - loss: 0.0990 - accuracy: 0.9604 - val_loss: 1.5365 - val_accuracy: 0.7341\n",
            "Epoch 27/50\n",
            "4500/4500 - 37s - loss: 0.0963 - accuracy: 0.9617 - val_loss: 1.4236 - val_accuracy: 0.7357\n",
            "Epoch 28/50\n",
            "4500/4500 - 37s - loss: 0.0900 - accuracy: 0.9644 - val_loss: 1.6182 - val_accuracy: 0.7369\n",
            "Epoch 29/50\n",
            "4500/4500 - 37s - loss: 0.0891 - accuracy: 0.9647 - val_loss: 1.5838 - val_accuracy: 0.7338\n",
            "Epoch 30/50\n",
            "4500/4500 - 37s - loss: 0.0855 - accuracy: 0.9663 - val_loss: 1.6543 - val_accuracy: 0.7376\n",
            "Epoch 31/50\n",
            "4500/4500 - 37s - loss: 0.0831 - accuracy: 0.9679 - val_loss: 1.5713 - val_accuracy: 0.7337\n",
            "Epoch 32/50\n",
            "4500/4500 - 37s - loss: 0.0804 - accuracy: 0.9681 - val_loss: 1.6991 - val_accuracy: 0.7361\n",
            "Epoch 33/50\n",
            "4500/4500 - 37s - loss: 0.0780 - accuracy: 0.9694 - val_loss: 1.6883 - val_accuracy: 0.7359\n",
            "Epoch 34/50\n",
            "4500/4500 - 36s - loss: 0.0773 - accuracy: 0.9707 - val_loss: 1.7188 - val_accuracy: 0.7371\n",
            "Epoch 35/50\n",
            "4500/4500 - 36s - loss: 0.0749 - accuracy: 0.9711 - val_loss: 1.6867 - val_accuracy: 0.7331\n",
            "Epoch 36/50\n",
            "4500/4500 - 36s - loss: 0.0731 - accuracy: 0.9724 - val_loss: 1.7900 - val_accuracy: 0.7354\n",
            "Epoch 37/50\n",
            "4500/4500 - 36s - loss: 0.0726 - accuracy: 0.9719 - val_loss: 1.7484 - val_accuracy: 0.7379\n",
            "Epoch 38/50\n",
            "4500/4500 - 36s - loss: 0.0707 - accuracy: 0.9726 - val_loss: 1.7046 - val_accuracy: 0.7353\n",
            "Epoch 39/50\n",
            "4500/4500 - 37s - loss: 0.0680 - accuracy: 0.9740 - val_loss: 1.7999 - val_accuracy: 0.7383\n",
            "Epoch 40/50\n",
            "4500/4500 - 36s - loss: 0.0681 - accuracy: 0.9739 - val_loss: 1.7551 - val_accuracy: 0.7293\n",
            "Epoch 41/50\n",
            "4500/4500 - 36s - loss: 0.0669 - accuracy: 0.9744 - val_loss: 1.7741 - val_accuracy: 0.7363\n",
            "Epoch 42/50\n",
            "4500/4500 - 36s - loss: 0.0639 - accuracy: 0.9759 - val_loss: 1.8474 - val_accuracy: 0.7371\n",
            "Epoch 43/50\n",
            "4500/4500 - 36s - loss: 0.0634 - accuracy: 0.9761 - val_loss: 1.8055 - val_accuracy: 0.7308\n",
            "Epoch 44/50\n",
            "4500/4500 - 36s - loss: 0.0631 - accuracy: 0.9763 - val_loss: 1.8305 - val_accuracy: 0.7344\n",
            "Epoch 45/50\n",
            "4500/4500 - 36s - loss: 0.0619 - accuracy: 0.9758 - val_loss: 1.8472 - val_accuracy: 0.7343\n",
            "Epoch 46/50\n",
            "4500/4500 - 36s - loss: 0.0615 - accuracy: 0.9763 - val_loss: 1.9773 - val_accuracy: 0.7364\n",
            "Epoch 47/50\n",
            "4500/4500 - 37s - loss: 0.0613 - accuracy: 0.9770 - val_loss: 1.7948 - val_accuracy: 0.7318\n",
            "Epoch 48/50\n",
            "4500/4500 - 36s - loss: 0.0593 - accuracy: 0.9769 - val_loss: 1.8398 - val_accuracy: 0.7337\n",
            "Epoch 49/50\n",
            "4500/4500 - 36s - loss: 0.0589 - accuracy: 0.9778 - val_loss: 1.8199 - val_accuracy: 0.7321\n",
            "Epoch 50/50\n",
            "4500/4500 - 36s - loss: 0.0587 - accuracy: 0.9778 - val_loss: 1.8801 - val_accuracy: 0.7365\n",
            "Training Complete\n"
          ],
          "name": "stdout"
        }
      ]
    },
    {
      "cell_type": "code",
      "metadata": {
        "colab_type": "code",
        "id": "qxju4ItJKO8F",
        "colab": {
          "base_uri": "https://localhost:8080/",
          "height": 607
        },
        "outputId": "c9618889-5865-4992-9db2-a32e4528286d"
      },
      "source": [
        "import matplotlib.image  as mpimg\n",
        "import matplotlib.pyplot as plt\n",
        "\n",
        "#-----------------------------------------------------------\n",
        "# Retrieve a list of list results on training and test data\n",
        "# sets for each training epoch\n",
        "#-----------------------------------------------------------\n",
        "acc=history.history['accuracy']\n",
        "val_acc=history.history['val_accuracy']\n",
        "loss=history.history['loss']\n",
        "val_loss=history.history['val_loss']\n",
        "\n",
        "epochs=range(len(acc)) # Get number of epochs\n",
        "\n",
        "#------------------------------------------------\n",
        "# Plot training and validation accuracy per epoch\n",
        "#------------------------------------------------\n",
        "plt.plot(epochs, acc, 'r')\n",
        "plt.plot(epochs, val_acc, 'b')\n",
        "plt.title('Training and validation accuracy')\n",
        "plt.xlabel(\"Epochs\")\n",
        "plt.ylabel(\"Accuracy\")\n",
        "plt.legend([\"Accuracy\", \"Validation Accuracy\"])\n",
        "\n",
        "plt.figure()\n",
        "\n",
        "#------------------------------------------------\n",
        "# Plot training and validation loss per epoch\n",
        "#------------------------------------------------\n",
        "plt.plot(epochs, loss, 'r')\n",
        "plt.plot(epochs, val_loss, 'b')\n",
        "plt.title('Training and validation loss')\n",
        "plt.xlabel(\"Epochs\")\n",
        "plt.ylabel(\"Loss\")\n",
        "plt.legend([\"Loss\", \"Validation Loss\"])\n",
        "\n",
        "plt.figure()\n",
        "\n",
        "\n",
        "# Expected Output\n",
        "# A chart where the validation loss does not increase sharply!"
      ],
      "execution_count": 29,
      "outputs": [
        {
          "output_type": "execute_result",
          "data": {
            "text/plain": [
              "<Figure size 432x288 with 0 Axes>"
            ]
          },
          "metadata": {
            "tags": []
          },
          "execution_count": 29
        },
        {
          "output_type": "display_data",
          "data": {
            "image/png": "[encoded data removed]",
            "text/plain": [
              "<Figure size 432x288 with 1 Axes>"
            ]
          },
          "metadata": {
            "tags": [],
            "needs_background": "light"
          }
        },
        {
          "output_type": "display_data",
          "data": {
            "image/png": "[encoded data removed]",
            "text/plain": [
              "<Figure size 432x288 with 1 Axes>"
            ]
          },
          "metadata": {
            "tags": [],
            "needs_background": "light"
          }
        },
        {
          "output_type": "display_data",
          "data": {
            "text/plain": [
              "<Figure size 432x288 with 0 Axes>"
            ]
          },
          "metadata": {
            "tags": []
          }
        }
      ]
    },
    {
      "cell_type": "code",
      "metadata": {
        "id": "pgOD9TZcXy3h",
        "colab_type": "code",
        "colab": {}
      },
      "source": [
        ""
      ],
      "execution_count": null,
      "outputs": []
    }
  ]
}